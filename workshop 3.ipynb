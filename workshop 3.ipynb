{
 "cells": [
  {
   "cell_type": "markdown",
   "metadata": {},
   "source": [
    "<h1><center>Introduction to Pandas and NumPy</center></h1>"
   ]
  },
  {
   "cell_type": "markdown",
   "metadata": {},
   "source": [
    "This is short tutorial on getting started with pandas and numpy. These two libraries are extensively (and may be exclusively) used for handling any mathematical operations with data. Pandas and NumPy both help in parallelizing the code. While parallelization has some overhead cost (in terms of time) but for codes with lot of data (lot of rows in your excel/csv/SQl dataframe), parallelization if the way to go for efficient (fast) codes."
   ]
  },
  {
   "cell_type": "markdown",
   "metadata": {},
   "source": [
    "<h2>Help in python or R</h2>\n",
    "\n",
    "Stack overflow is the best resource for seeking help on any coding language. Given python and R are used extensively, stack overflow is very rich in resources with exact solution to almost all queries. It is even an OK answer to tell in interviews that you use stack overflow. \n",
    "\n",
    "Use stack overflow as some people dont just provide the code, they also provide information on why the code works (and sometimes logic as why you may be doing something wrong if you are looking for a particular type of code). "
   ]
  },
  {
   "cell_type": "markdown",
   "metadata": {},
   "source": [
    "<h2>Python libraries</h2>\n",
    "\n",
    "A lot of libraries have already been created in python so we dont have to code everything from scratch. We can just use existing libraries in code by importing those libraries. Two libraries we discuss today are numpy and pandas. You will be using a lot of libraries in MSBA such as:\n",
    "<ul>\n",
    "    <li>matplotlib : for drawing figures (e.g. for descriptive analysis)</li>\n",
    "    <li>sklearn : for building machine learning models</li>\n",
    "    <li>statsmodel : for building statistical models (e.g. time series, poisson regression)</li>\n",
    "    <li>random : introducing randomness in your simulation models</li>\n",
    "    <li>maths : for performing mathematical operations (e.g. math.pow(3,2) gives 3 to the power of 2 = 9)</li>\n",
    "</ul>"
   ]
  },
  {
   "cell_type": "markdown",
   "metadata": {},
   "source": [
    "We can use the documentation of the library as a guide to understand what are the parameters of the model. For example, in the linear regression library documentation, we can see what are the parameters (what are the default values the library model considers) and how these parameters can be changed to improve the model.\n",
    "\n",
    "<a href=\"https://scikit-learn.org/stable/modules/generated/sklearn.linear_model.LinearRegression.html\">linear regression in sklearn</a>: the parameters are  fit_intercept=True, normalize=False, copy_X=True, n_jobs=None. Values after \"=\" are the default value set for each of these parameters. The description below shows what these values are and what is the default value set for each of them. Similarly, \n",
    "\n",
    "<a href=\"https://xgboost.readthedocs.io/en/latest/python/python_api.html\">xgboost library</a>: the parameters are:data, label=None, weight=None, base_margin=None, missing=None, silent=False, feature_names=None, feature_types=None, nthread=None, enable_categorical=False"
   ]
  },
  {
   "cell_type": "markdown",
   "metadata": {},
   "source": [
    "<h3>importing libraries</h3>"
   ]
  },
  {
   "cell_type": "code",
   "execution_count": 1,
   "metadata": {},
   "outputs": [],
   "source": [
    "# importing some of the libraries below\n",
    "import pandas as pd \n",
    "import matplotlib.pyplot as mplt\n",
    "import numpy as np\n",
    "from IPython.core.display import display, HTML\n",
    "\n",
    "# pandas as pd (or numpy as np) is creating a alias for pandas. \n",
    "# so that when we code, we need to write np.sum() instead of numpy.sum(), similarly pd.read_csv instead of pandas.read_csv\n",
    "\n",
    "# when we import a library, we dont need to import the complete library. We can just import part of it.\n",
    "# here, we just import pyplot function inside the matplotlib library (and name it as mplt).\n",
    "\n",
    "# we do not import the complete library to keep our code light and fast (so that it consumes less memory)\n",
    "# speed of a code depends on the amount of data/information in the working memory of the computer (RAM). \n",
    "# if you load more and more data (or huge data) in computer memory, your code will be slow. \n",
    "# therefore it is good practice to delete the data from the code memory which will not be used in the code later(using del a)"
   ]
  },
  {
   "cell_type": "markdown",
   "metadata": {},
   "source": [
    "<h2>Introduction to Pandas</h2>"
   ]
  },
  {
   "cell_type": "markdown",
   "metadata": {},
   "source": [
    "Pandas is a software library written for the Python programming language for data manipulation and analysis. It is like the SQL where data manipulation across columns can be done in parallel. Its super fast and efficient.\n",
    "\n",
    "<b>RULE</b> If you have data set with millions of rows, and if you are coding a loop (over all the millions of rows), your coding most definitely wont work. You need to perform some sort of column-wise operations.\n",
    "\n",
    "Here are some of the links to get started with pandas:\n",
    "<ul>\n",
    "    <li> <a href=\"https://pandas.pydata.org/docs/user_guide/10min.html\">getting started with pandas</a></li>\n",
    "    <li> <a href=\"https://pandas.pydata.org/docs/user_guide/cookbook.html#cookbook\">pandas cookbook</a></li>\n",
    "    <li> <a href=\"https://github.com/jvns/pandas-cookbook\">github repository for pandas cookbook</a></li>\n",
    "    <li> <a href=\"https://www.learnpython.org/en/Pandas_Basics\">interactive tutorial on pandas</a></li>\n",
    "</ul>\n",
    "\n",
    "<b>NOTE</b> All the operations that can be performed using pandas in python can be performed using R dataFrame in R programming language as well (only slight changes in syntax)"
   ]
  },
  {
   "cell_type": "markdown",
   "metadata": {},
   "source": [
    "If the data is in the following format, pandas can be used to analyze the data as first step of data analytics. The data in tabular form consists of rows (index 0) and columns (index 1). Pandas maintain an index for each rows. One columns of the pandas dataframe if called <b>Series</b>. Note that some operations on dataframe cannot be performed on Series (example, merge).\n",
    "\n",
    "<img src=\"pandas-data-structure.svg\" width=\"500\">\n",
    "\n",
    "Some exercises on pandas (and source of image above) is <a href=\"https://www.w3resource.com/python-exercises/pandas/index.php\">here</a>."
   ]
  },
  {
   "cell_type": "markdown",
   "metadata": {},
   "source": [
    "<h3>loading data</h3>"
   ]
  },
  {
   "cell_type": "code",
   "execution_count": 2,
   "metadata": {},
   "outputs": [
    {
     "name": "stdout",
     "output_type": "stream",
     "text": [
      "shape (rows and columns) (7043, 21)\n",
      "   customerID  gender  SeniorCitizen  Partner  Dependents  tenure  \\\n",
      "0  7590-VHVEG       0              0        1           0       1   \n",
      "1  5575-GNVDE       1              0        0           0      34   \n",
      "2  3668-QPYBK       1              0        0           0       2   \n",
      "\n",
      "   PhoneService  MultipleLines  InternetService  OnlineSecurity  ...  \\\n",
      "0             0              0                1               0  ...   \n",
      "1             1              0                1               1  ...   \n",
      "2             1              0                1               1  ...   \n",
      "\n",
      "   DeviceProtection  TechSupport  StreamingTV  StreamingMovies  Contract  \\\n",
      "0                 0            0            0                0         1   \n",
      "1                 1            0            0                0         2   \n",
      "2                 0            0            0                0         1   \n",
      "\n",
      "   PaperlessBilling  PaymentMethod  MonthlyCharges  TotalCharges Churn  \n",
      "0                 1              2           29.85         29.85     0  \n",
      "1                 0              3           56.95        1889.5     0  \n",
      "2                 1              3           53.85        108.15     1  \n",
      "\n",
      "[3 rows x 21 columns]\n"
     ]
    }
   ],
   "source": [
    "# reading the data in pandas dataframe format\n",
    "data = pd.read_csv('churn.csv')\n",
    "print('shape (rows and columns)',data.shape)\n",
    "\n",
    "# .head() function shows the top 5 rows of the data\n",
    "print(data.head(3))\n",
    "# .tail(n) gives last n rows of the data\n",
    "# print(data.tail(3))"
   ]
  },
  {
   "cell_type": "code",
   "execution_count": 3,
   "metadata": {},
   "outputs": [
    {
     "data": {
      "text/plain": [
       "customerID           object\n",
       "gender                int64\n",
       "SeniorCitizen         int64\n",
       "Partner               int64\n",
       "Dependents            int64\n",
       "tenure                int64\n",
       "PhoneService          int64\n",
       "MultipleLines         int64\n",
       "InternetService       int64\n",
       "OnlineSecurity        int64\n",
       "OnlineBackup          int64\n",
       "DeviceProtection      int64\n",
       "TechSupport           int64\n",
       "StreamingTV           int64\n",
       "StreamingMovies       int64\n",
       "Contract              int64\n",
       "PaperlessBilling      int64\n",
       "PaymentMethod         int64\n",
       "MonthlyCharges      float64\n",
       "TotalCharges         object\n",
       "Churn                 int64\n",
       "dtype: object"
      ]
     },
     "execution_count": 3,
     "metadata": {},
     "output_type": "execute_result"
    }
   ],
   "source": [
    "# first check the data type of each of the columns\n",
    "data.dtypes"
   ]
  },
  {
   "cell_type": "markdown",
   "metadata": {},
   "source": [
    "<h3>checking empty rows/column</h3>"
   ]
  },
  {
   "cell_type": "code",
   "execution_count": 4,
   "metadata": {},
   "outputs": [
    {
     "data": {
      "text/plain": [
       "(array([], dtype=int64), array([], dtype=int64))"
      ]
     },
     "execution_count": 4,
     "metadata": {},
     "output_type": "execute_result"
    }
   ],
   "source": [
    "# missing data is a big topic in itself:\n",
    "# do we replace missing data with average of the column or just remove that row? here we check for missing data and remove row\n",
    "\n",
    "# following code find the rows with missing data\n",
    "np.where(pd.isnull(data))\n",
    "\n",
    "# check if there is any missing data here: False says no missing data\n",
    "#data.isnull().values.any()"
   ]
  },
  {
   "cell_type": "code",
   "execution_count": 5,
   "metadata": {},
   "outputs": [
    {
     "data": {
      "text/plain": [
       "(49.95, 49.95)"
      ]
     },
     "execution_count": 5,
     "metadata": {},
     "output_type": "execute_result"
    }
   ],
   "source": [
    "# getting a value from cell\n",
    "# iloc is a pandas keyword which tells the location from where the data is to be collected from\n",
    "data['MonthlyCharges'].iloc[10], data.iloc[10,18]"
   ]
  },
  {
   "cell_type": "code",
   "execution_count": 6,
   "metadata": {},
   "outputs": [],
   "source": [
    "# creating a new column based on some operations\n",
    "# TotalCharges can be obtained by multiplying tenure and monthlyCharges (all operations performed in parallel by pandas)\n",
    "data['newTotalCharges'] = data['MonthlyCharges']*data['tenure']"
   ]
  },
  {
   "cell_type": "markdown",
   "metadata": {},
   "source": [
    "<h3>working with functions</h3>"
   ]
  },
  {
   "cell_type": "code",
   "execution_count": 7,
   "metadata": {},
   "outputs": [],
   "source": [
    "# function in pandas\n",
    "# the following function works on each element (parallelized)\n",
    "\n",
    "\n",
    "# in this function we convert the float into integers\n",
    "def convert2int(x):\n",
    "    return(int(x))\n",
    "\n",
    "# apply and lambda are key words\n",
    "data['newTotalCharges'] = data['newTotalCharges'].apply(lambda x:convert2int(x))\n",
    "\n",
    "#  we can remove some columns\n",
    "del data['TotalCharges']"
   ]
  },
  {
   "cell_type": "code",
   "execution_count": 8,
   "metadata": {},
   "outputs": [
    {
     "data": {
      "text/plain": [
       "Index(['customerID', 'gender', 'SeniorCitizen', 'Partner', 'Dependents',\n",
       "       'tenure', 'PhoneService', 'MultipleLines', 'InternetService',\n",
       "       'OnlineSecurity', 'OnlineBackup', 'DeviceProtection', 'TechSupport',\n",
       "       'StreamingTV', 'StreamingMovies', 'Contract', 'PaperlessBilling',\n",
       "       'PaymentMethod', 'MonthlyCharges', 'Churn', 'newTotalCharges'],\n",
       "      dtype='object')"
      ]
     },
     "execution_count": 8,
     "metadata": {},
     "output_type": "execute_result"
    }
   ],
   "source": [
    "# printing the columns of the dataframe\n",
    "data.columns"
   ]
  },
  {
   "cell_type": "markdown",
   "metadata": {},
   "source": [
    "<h3>Some SQL operations</h3>"
   ]
  },
  {
   "cell_type": "code",
   "execution_count": 10,
   "metadata": {},
   "outputs": [
    {
     "name": "stdout",
     "output_type": "stream",
     "text": [
      "          gender  SeniorCitizen   Partner  Dependents  PhoneService  \\\n",
      "tenure                                                                \n",
      "0       0.545455       0.000000  0.818182    1.000000      0.818182   \n",
      "1       0.536705       0.140294  0.159869    0.169657      0.905383   \n",
      "2       0.453782       0.180672  0.201681    0.117647      0.915966   \n",
      "3       0.495000       0.125000  0.235000    0.160000      0.860000   \n",
      "4       0.500000       0.147727  0.272727    0.227273      0.892045   \n",
      "\n",
      "        MultipleLines  InternetService  OnlineSecurity  OnlineBackup  \\\n",
      "tenure                                                                 \n",
      "0            0.363636         0.454545        0.363636      0.363636   \n",
      "1            0.132137         1.112561        0.060359      0.076672   \n",
      "2            0.184874         1.260504        0.113445      0.159664   \n",
      "3            0.240000         1.255000        0.100000      0.175000   \n",
      "4            0.318182         1.221591        0.136364      0.181818   \n",
      "\n",
      "        DeviceProtection  TechSupport  StreamingTV  StreamingMovies  Contract  \\\n",
      "tenure                                                                          \n",
      "0               0.363636     0.363636     0.363636         0.090909  2.909091   \n",
      "1               0.066884     0.053834     0.130506         0.133768  1.017945   \n",
      "2               0.126050     0.079832     0.189076         0.210084  1.037815   \n",
      "3               0.165000     0.170000     0.285000         0.225000  1.060000   \n",
      "4               0.147727     0.142045     0.215909         0.232955  1.085227   \n",
      "\n",
      "        PaperlessBilling  PaymentMethod  MonthlyCharges     Churn  \\\n",
      "tenure                                                              \n",
      "0               0.272727       2.272727       41.418182  0.000000   \n",
      "1               0.575856       2.252855       50.485808  0.619902   \n",
      "2               0.558824       2.025210       57.206303  0.516807   \n",
      "3               0.615000       2.135000       58.015000  0.470000   \n",
      "4               0.590909       2.022727       57.432670  0.471591   \n",
      "\n",
      "        newTotalCharges  \n",
      "tenure                   \n",
      "0              0.000000  \n",
      "1             50.021207  \n",
      "2            113.949580  \n",
      "3            173.560000  \n",
      "4            229.306818  \n"
     ]
    }
   ],
   "source": [
    "# all SQL functions can be performed in pandas. Some of them include:\n",
    "# sort by some column\n",
    "# uncomment to see the results\n",
    "data = data.sort_values(by=['MonthlyCharges'])\n",
    "#print(data.head())\n",
    "\n",
    "# group by\n",
    "data_groupby = data.groupby(['tenure']).mean()\n",
    "print(data_groupby.head())\n",
    "\n",
    "# "
   ]
  },
  {
   "cell_type": "markdown",
   "metadata": {},
   "source": [
    "<b>Some exploratory analysis</b><br>\n",
    "Data in pandas dataframe format can be sent to plotting function. Plotting function understands the data format and plot accordingly. "
   ]
  },
  {
   "cell_type": "code",
   "execution_count": 11,
   "metadata": {},
   "outputs": [
    {
     "data": {
      "image/png": "[encoded data removed]",
      "text/plain": [
       "<Figure size 432x288 with 1 Axes>"
      ]
     },
     "metadata": {
      "needs_background": "light"
     },
     "output_type": "display_data"
    }
   ],
   "source": [
    "mplt.hist(data['tenure'],bins=20);"
   ]
  },
  {
   "cell_type": "code",
   "execution_count": 12,
   "metadata": {},
   "outputs": [
    {
     "name": "stdout",
     "output_type": "stream",
     "text": [
      "<bound method IndexOpsMixin.value_counts of 3719    28\n",
      "1529    59\n",
      "6652    36\n",
      "6906    25\n",
      "1156    53\n",
      "        ..\n",
      "5127    67\n",
      "3894    68\n",
      "4804    61\n",
      "2115    71\n",
      "4586    72\n",
      "Name: tenure, Length: 7043, dtype: int64>\n"
     ]
    }
   ],
   "source": [
    "# this gives a frequency of how many times a particular value was observed in that column (e.g. column tenure)\n",
    "print(data['tenure'].value_counts)"
   ]
  },
  {
   "cell_type": "markdown",
   "metadata": {},
   "source": [
    "<h3>Pandas and SQL</h3>"
   ]
  },
  {
   "cell_type": "markdown",
   "metadata": {},
   "source": [
    "<b>Pandas</b> provide an endless opportunity to perform data processing. Please see the resources above to learn how to code those functionalities. Some of them include:\n",
    "<ul>\n",
    "    <li>merging two data sets using a primary key (a unique common key in both database)</li>\n",
    "    <li>sum/mean/min/max for a user/specific primary key</li>\n",
    "    <li>plotting using columns of the pandas dataFrame</li>\n",
    "    <li>sorting/arranging based on some factors (uniquely for a primary key)</li>\n",
    "</ul>\n",
    "\n",
    "Its easy to look for code on stack overflow. All these operations are performed fast and efficiently by pandas library automatically (we dont have to worry about parallelization in pandas as it is done automatically)."
   ]
  },
  {
   "cell_type": "markdown",
   "metadata": {},
   "source": [
    "<h2>Introduction to NumPy</h2>\n",
    "\n",
    "Pandas library is actually built using numpy. NumPy (Numerical Python) deals with parallelization of data. Any data as shown below in the figure (in any dimension) can be stored in a numpy format. Numpy format converts the data into a matrix form (it could be multi-dimensional). If data is stored in a numpy format, python automatically understands that it is in a matrix form and performs all the operation in parallel.\n",
    "\n",
    "<b>PARALLELIZATION</b> If you have a quad core computer, it means your computer has 4 processors. When we write a loop (for example finding the sum of all rows in a column), only one of the core is used. But if we use numpy (for example np.sum(a)), the numpy library uses all the four cores of the computer. This is called parallelization and it makes the code run faster (you really want that when you will be working with millions of rows of data). \n",
    "\n",
    "<b>RULE</b> If you large dataset and if there is ANY opportunity to parallelize the data by converting it into matrix form, use the matrix form of the data for that operation.  "
   ]
  },
  {
   "cell_type": "markdown",
   "metadata": {},
   "source": [
    "\n",
    "\n",
    "<img src=\"matrix.png\" width=\"500\">\n",
    "\n",
    "<center>Different dimensional data</center>"
   ]
  },
  {
   "cell_type": "code",
   "execution_count": 13,
   "metadata": {},
   "outputs": [
    {
     "name": "stdout",
     "output_type": "stream",
     "text": [
      ".shape functions tells the shape of the data: (7043, 21)\n"
     ]
    }
   ],
   "source": [
    "# storing data in a nupy array\n",
    "data_np = data.values\n",
    "print(\".shape functions tells the shape of the data:\",data_np.shape)"
   ]
  },
  {
   "cell_type": "code",
   "execution_count": 14,
   "metadata": {},
   "outputs": [],
   "source": [
    "# python understands that the first in pandas is the name of the columns\n",
    "\n",
    "# data also contains a string column with strings, we remove it here and can keep a list of the ids\n",
    "customer_id = data_np[:,0]\n",
    "\n",
    "# following code deletes the first column of the data (which we have already stored above)\n",
    "data_np = np.delete(data_np,0,1)"
   ]
  },
  {
   "cell_type": "markdown",
   "metadata": {},
   "source": [
    "<h3>creating numpy arrays</h3>"
   ]
  },
  {
   "cell_type": "code",
   "execution_count": 15,
   "metadata": {},
   "outputs": [
    {
     "name": "stdout",
     "output_type": "stream",
     "text": [
      "(2, 3, 4)\n",
      "(3, 4) (3, 4)\n"
     ]
    }
   ],
   "source": [
    "# creating 3d or 4d array (initializing it with 0)\n",
    "a = np.zeros((2,3,4))  # array with size2(0th dimension), 3 (1st dimension), and 4 (2nd dimension)\n",
    "print(a.shape)\n",
    "\n",
    "b = a[0]               #size of b should be (3,4) as that is the dimension of the a[0] or a[1])\n",
    "print(b.shape,a[1].shape)"
   ]
  },
  {
   "cell_type": "markdown",
   "metadata": {},
   "source": [
    "<h3>numpy axes</h3>\n",
    "\n",
    "All the operations in numpy can be performed by understanding the axes as how the data is stored. np.sum(a) would return the sum across all the dimensions. But if we want to get the sum across just one dimension, we can write np.sum(a,axis=0): it gives the sum of all the rest of the elements of a across 0th dimension. np.sum(a,axis=0) should give the shape of (3,4) as all elements are summed across the 0th dimension. Similarly, sum across other dimensions can be checked as well (shown below)."
   ]
  },
  {
   "cell_type": "code",
   "execution_count": 16,
   "metadata": {},
   "outputs": [
    {
     "data": {
      "text/plain": [
       "((3, 4), (2, 4), (2, 3))"
      ]
     },
     "execution_count": 16,
     "metadata": {},
     "output_type": "execute_result"
    }
   ],
   "source": [
    "np.sum(a,axis=0).shape,np.sum(a,axis=1).shape,np.sum(a,axis=2).shape"
   ]
  },
  {
   "cell_type": "code",
   "execution_count": 17,
   "metadata": {},
   "outputs": [
    {
     "data": {
      "text/plain": [
       "((20,), (7043,))"
      ]
     },
     "execution_count": 17,
     "metadata": {},
     "output_type": "execute_result"
    }
   ],
   "source": [
    "# now that we have stored data in the numpy format in data_np, we can performa all the numpy operations\n",
    "\n",
    "# sum\n",
    "sum_rows = np.sum(data_np,axis=0) # find the sum across all the rows (rows is the 0th dimension)\n",
    "sum_cols = np.sum(data_np,axis=1) # find the sum across all the columns (rows is the 1st dimension)\n",
    "\n",
    "sum_rows.shape,sum_cols.shape"
   ]
  },
  {
   "cell_type": "markdown",
   "metadata": {},
   "source": [
    "<h3>resources for numpy</h3>\n",
    "\n",
    "Use this list as an introduction to numpy (there is stack overflow for more options with numpy).\n",
    "<ul>\n",
    "    <li><a href = \"https://numpy.org/devdocs/user/quickstart.html\">introduction to numpy</a></li>\n",
    "    <li><a href = \"https://cs231n.github.io/python-numpy-tutorial/\">stanford tutorial on python</a></li>\n",
    "    <li><a href = \"https://numpy.org/doc/stable/user/numpy-for-matlab-users.html\">numpy and matlab similarity (if you are coming from matlab)</a></li>\n",
    "</ul>"
   ]
  },
  {
   "cell_type": "markdown",
   "metadata": {},
   "source": [
    "<h3>matrix operations</h3>"
   ]
  },
  {
   "cell_type": "code",
   "execution_count": 18,
   "metadata": {},
   "outputs": [],
   "source": [
    "# numpy is great with matrix operations\n",
    "# (3,4) is the shape of the numpy array\n",
    "a = np.random.uniform(0,5,(3,4))\n",
    "b = np.random.uniform(10,15,(4,3))\n",
    "c = np.random.uniform(10,15,(3,4))"
   ]
  },
  {
   "cell_type": "code",
   "execution_count": 19,
   "metadata": {},
   "outputs": [],
   "source": [
    "# matrix multiplication (rows and columns should be appropriate)\n",
    "d = np.matmul(a,b)   #matmul stands for matrix multiplication\n",
    "#print(d.shape)\n",
    "\n",
    "# element wise multiplication (both should have same size)\n",
    "d = np.multiply(a,c)\n",
    "#print(d.shape)\n",
    "\n",
    "# using multiple operations in the same line of code\n",
    "d = np.matmul(np.multiply(a,c),b)   # first multiply a and c and then multiply it by b\n",
    "#print(d.shape)\n",
    "\n",
    "# transpose\n",
    "#print(a,'\\n',a.T)\n",
    "\n",
    "d = np.matmul(b.T,a.T)   # because we used transpose, we need to change the order of a and b\n",
    "#print(d.shape)"
   ]
  },
  {
   "cell_type": "markdown",
   "metadata": {},
   "source": [
    "<h3>working with index</h3>\n",
    "\n",
    "numpy can be used to perform search operations in a array (again, fast and efficiently). Some of the examples using the index is shown bleow:"
   ]
  },
  {
   "cell_type": "code",
   "execution_count": 20,
   "metadata": {},
   "outputs": [],
   "source": [
    "# first part is condition, second part says what to do if condition is satisfied, third part is what to do in else condition\n",
    "ind_a = np.where(a<2,0,100)\n",
    "#print(ind_a)\n",
    "\n",
    "# gives a index where a is less than 2 (in terms of true and false)\n",
    "ind_a = a<2\n",
    "#print(ind_a)\n",
    "\n",
    "# following gives the index of all the elements with a < 2\n",
    "ind = np.argwhere(a<2)\n",
    "#print(ind)\n",
    "\n",
    "# gives max of the value in a\n",
    "ind = np.max(a)\n",
    "#print(ind)\n",
    "\n",
    "# gives index of the maximum value (8 becasue 4.28 is the eighth index)\n",
    "ind = np.argmax(a)\n",
    "#print(ind)\n",
    "\n",
    "# gives the exact location of maximum value of a\n",
    "ind = np.argwhere(a==np.max(a))\n",
    "#print(ind)"
   ]
  },
  {
   "cell_type": "code",
   "execution_count": 21,
   "metadata": {},
   "outputs": [
    {
     "data": {
      "text/plain": [
       "array([[2.66360839, 1.46380366, 3.90163223, 1.27236268],\n",
       "       [1.30359908, 4.67636243, 4.86286645, 2.29255247],\n",
       "       [1.40352759, 0.20457158, 3.09284023, 0.60080095]])"
      ]
     },
     "execution_count": 21,
     "metadata": {},
     "output_type": "execute_result"
    }
   ],
   "source": [
    "a"
   ]
  },
  {
   "cell_type": "code",
   "execution_count": null,
   "metadata": {},
   "outputs": [],
   "source": []
  }
 ],
 "metadata": {
  "hide_input": false,
  "kernelspec": {
   "display_name": "Python 3",
   "language": "python",
   "name": "python3"
  },
  "language_info": {
   "codemirror_mode": {
    "name": "ipython",
    "version": 3
   },
   "file_extension": ".py",
   "mimetype": "text/x-python",
   "name": "python",
   "nbconvert_exporter": "python",
   "pygments_lexer": "ipython3",
   "version": "3.7.3"
  },
  "toc": {
   "base_numbering": 1,
   "nav_menu": {},
   "number_sections": true,
   "sideBar": true,
   "skip_h1_title": true,
   "title_cell": "Table of Contents",
   "title_sidebar": "Contents",
   "toc_cell": false,
   "toc_position": {
    "height": "calc(100% - 180px)",
    "left": "10px",
    "top": "150px",
    "width": "261.319px"
   },
   "toc_section_display": true,
   "toc_window_display": true
  },
  "varInspector": {
   "cols": {
    "lenName": 16,
    "lenType": 16,
    "lenVar": 40
   },
   "kernels_config": {
    "python": {
     "delete_cmd_postfix": "",
     "delete_cmd_prefix": "del ",
     "library": "var_list.py",
     "varRefreshCmd": "print(var_dic_list())"
    },
    "r": {
     "delete_cmd_postfix": ") ",
     "delete_cmd_prefix": "rm(",
     "library": "var_list.r",
     "varRefreshCmd": "cat(var_dic_list()) "
    }
   },
   "types_to_exclude": [
    "module",
    "function",
    "builtin_function_or_method",
    "instance",
    "_Feature"
   ],
   "window_display": false
  }
 },
 "nbformat": 4,
 "nbformat_minor": 2
}
