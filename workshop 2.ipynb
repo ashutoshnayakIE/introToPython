{
 "cells": [
  {
   "cell_type": "markdown",
   "metadata": {},
   "source": [
    "<h1><center>Object Oriented Programming</center></h1>"
   ]
  },
  {
   "cell_type": "markdown",
   "metadata": {},
   "source": [
    "<h2>Introduction</h2>"
   ]
  },
  {
   "cell_type": "markdown",
   "metadata": {},
   "source": [
    "<b>Object oriented programming</b> is a programming paradigm that structures coding such that properties or behavior are bundled as individual objects. Although, python is not completely an object oriented programming language, like JAVA, we can still structure our programming in this format.\n",
    "\n",
    "<img src=\"fig1.png\" width=\"500\">\n",
    "\n",
    "\n",
    "<center>Class and Objects (image from <a href=\"https://www.wikitechy.com/tutorials/python/python-object-class\">here</a>)</center>"
   ]
  },
  {
   "cell_type": "markdown",
   "metadata": {},
   "source": [
    "<h2>Data</h2>"
   ]
  },
  {
   "cell_type": "code",
   "execution_count": 1,
   "metadata": {},
   "outputs": [],
   "source": [
    "import pandas as pd \n",
    "import matplotlib.pyplot as plt\n",
    "import numpy as np\n",
    "from IPython.core.display import display, HTML"
   ]
  },
  {
   "cell_type": "code",
   "execution_count": 2,
   "metadata": {},
   "outputs": [
    {
     "name": "stdout",
     "output_type": "stream",
     "text": [
      "shape (7043, 21)\n",
      "   customerID  gender  SeniorCitizen  Partner  Dependents  tenure  \\\n",
      "0  7590-VHVEG       0              0        1           0       1   \n",
      "1  5575-GNVDE       1              0        0           0      34   \n",
      "2  3668-QPYBK       1              0        0           0       2   \n",
      "\n",
      "   PhoneService  MultipleLines  InternetService  OnlineSecurity  ...  \\\n",
      "0             0              0                1               0  ...   \n",
      "1             1              0                1               1  ...   \n",
      "2             1              0                1               1  ...   \n",
      "\n",
      "   DeviceProtection  TechSupport  StreamingTV  StreamingMovies  Contract  \\\n",
      "0                 0            0            0                0         1   \n",
      "1                 1            0            0                0         2   \n",
      "2                 0            0            0                0         1   \n",
      "\n",
      "   PaperlessBilling  PaymentMethod  MonthlyCharges  TotalCharges Churn  \n",
      "0                 1              2           29.85         29.85     0  \n",
      "1                 0              3           56.95        1889.5     0  \n",
      "2                 1              3           53.85        108.15     1  \n",
      "\n",
      "[3 rows x 21 columns]\n"
     ]
    }
   ],
   "source": [
    "data = pd.read_csv('churn.csv')\n",
    "print('shape',data.shape)\n",
    "print(data.head(3))"
   ]
  },
  {
   "cell_type": "markdown",
   "metadata": {},
   "source": [
    "<h2>Functions</h2>"
   ]
  },
  {
   "cell_type": "markdown",
   "metadata": {},
   "source": [
    "Functions are used to make the code modular. For example, if we have to write the same loop again and again, it would be easier to code (short and easy to follow), if we create a function which we can call. For example in ML, we do not write the whole code for linear regression, we just call a linear regression function written in python."
   ]
  },
  {
   "cell_type": "code",
   "execution_count": 3,
   "metadata": {},
   "outputs": [
    {
     "name": "stdout",
     "output_type": "stream",
     "text": [
      "379.45 307\n"
     ]
    }
   ],
   "source": [
    "'''\n",
    "Suppose we have to find sum the monthly charges of 6th to 10th and tenure of 120th to 130th user\n",
    "this method requires us to write two loops \n",
    "it is bad coding if we have big loops or big codes (it becomes difficult to read)\n",
    "'''\n",
    "\n",
    "sum_charges = 0\n",
    "sum_tenure  = 0\n",
    "\n",
    "for u in range(5,10):\n",
    "    sum_charges += data.iloc[u]['MonthlyCharges']\n",
    "    \n",
    "for u in range(119,130):\n",
    "    sum_tenure += data.iloc[u]['tenure']\n",
    "    \n",
    "print(sum_charges,sum_tenure)"
   ]
  },
  {
   "cell_type": "code",
   "execution_count": 4,
   "metadata": {
    "code_folding": []
   },
   "outputs": [
    {
     "name": "stdout",
     "output_type": "stream",
     "text": [
      "379.45 307\n"
     ]
    },
    {
     "ename": "NameError",
     "evalue": "name 'value' is not defined",
     "output_type": "error",
     "traceback": [
      "\u001b[1;31m---------------------------------------------------------------------------\u001b[0m",
      "\u001b[1;31mNameError\u001b[0m                                 Traceback (most recent call last)",
      "\u001b[1;32m<ipython-input-4-ef71d4655679>\u001b[0m in \u001b[0;36m<module>\u001b[1;34m\u001b[0m\n\u001b[0;32m     19\u001b[0m \u001b[1;31m# value is defined inside the function, outside the function, the code does not know what value is\u001b[0m\u001b[1;33m\u001b[0m\u001b[1;33m\u001b[0m\u001b[1;33m\u001b[0m\u001b[0m\n\u001b[0;32m     20\u001b[0m \u001b[1;31m# the following line would give an error\u001b[0m\u001b[1;33m\u001b[0m\u001b[1;33m\u001b[0m\u001b[1;33m\u001b[0m\u001b[0m\n\u001b[1;32m---> 21\u001b[1;33m \u001b[0mprint\u001b[0m\u001b[1;33m(\u001b[0m\u001b[0mvalue\u001b[0m\u001b[1;33m)\u001b[0m\u001b[1;33m\u001b[0m\u001b[1;33m\u001b[0m\u001b[0m\n\u001b[0m",
      "\u001b[1;31mNameError\u001b[0m: name 'value' is not defined"
     ]
    }
   ],
   "source": [
    "'''\n",
    "instead, we can create a function that would give us the sum\n",
    "def find_sum(start,end,data,column_name) : start, end, data, column_name are the inputs to the function\n",
    "return (value) : returns the output of the function (note that the variable value cannot be accessed from outside)\n",
    "'''\n",
    "\n",
    "def find_sum(start,end,data,column_name):\n",
    "    value = 0\n",
    "    for u in range(start,end):\n",
    "        value += data.iloc[u][column_name]\n",
    "        \n",
    "    return(value)\n",
    "\n",
    "sum_charges = find_sum(5,10,data,'MonthlyCharges')\n",
    "sum_tenure  = find_sum(119,130,data,'tenure')\n",
    "\n",
    "print(sum_charges, sum_tenure)\n",
    "\n",
    "# value is defined inside the function, outside the function, the code does not know what value is\n",
    "# the following line would give an error\n",
    "print(value)"
   ]
  },
  {
   "cell_type": "markdown",
   "metadata": {},
   "source": [
    "<h2>Definition of Class and Object</h2>\n",
    "\n",
    "1. <b>Class</b> is an idea as how something should be defined (like a template or a blue print). A class gives a structure to the individual agents in the environment. In this case, we define a class \"User\": it will define how data and some operations are performed for this Class.\n",
    "\n",
    "2. <b>Object</b> is an instance of a class. In this example, each individual user is an object. Class defines the structure of the object. Other examples include, Dog is a class, a dog named Max is an instance of Dog class, with attributes \"name: Max, gender: male, age:3\". Dog has a function Bark. Cat is a class, a cat named Luna is an instance of Cat class, with attributes \"name:Luna, gender:female,age:3\". Cat has a function Meow.\n",
    "\n",
    "PS: \"Max\" is the most common name for male dogs, \"Luna is the most common name for female cats <a href=\"https://www.rover.com/blog/dog-names/#top-list\">here</a>. "
   ]
  },
  {
   "cell_type": "markdown",
   "metadata": {},
   "source": [
    "<h2>Building User Class</h2>"
   ]
  },
  {
   "cell_type": "code",
   "execution_count": 23,
   "metadata": {},
   "outputs": [],
   "source": [
    "# building a Class that will define users\n",
    "class User():\n",
    "    '''\n",
    "    this is called a constructor variable\n",
    "    it initializes the object\n",
    "    for example, even though the user has multiple attributes, we show how to initialize\n",
    "    '''\n",
    "    def __init__(self,customerID,gender,SeniorCitizen,Partner,Dependents,tenure,PhoneService,MultipleLines,InternetService,OnlineSecurity,OnlineBackup,DeviceProtection,TechSupport,StreamingTV,StreamingMovies,Contract,PaperlessBilling,PaymentMethod,MonthlyCharges,TotalCharges,Churn):\n",
    "        self.customerID      = customerID\n",
    "        self.gender          = gender\n",
    "        self.SeniorCitizen   = SeniorCitizen\n",
    "        self.Partner         = Partner\n",
    "        self.Dependents      = Dependents\n",
    "        self.tenure          = tenure\n",
    "        self.PhoneService    = PhoneService\n",
    "        self.MultipleLines   = MultipleLines\n",
    "        self.InternetService = InternetService\n",
    "        self.OnlineSecurity  = OnlineSecurity\n",
    "        self.OnlineBackup    = OnlineBackup\n",
    "        self.DeviceProtection= DeviceProtection\n",
    "        self.TechSupport     = TechSupport\n",
    "        self.StreamingTV     = StreamingTV\n",
    "        self.StreamingMovies = StreamingMovies\n",
    "        self.Contract        = Contract\n",
    "        self.PaperlessBilling= PaperlessBilling\n",
    "        self.PaymentMethod   = PaymentMethod\n",
    "        self.MonthlyCharges  = MonthlyCharges\n",
    "        self.TotalCharges    = TotalCharges\n",
    "        self.Churn           = Churn\n",
    "        \n",
    "    '''\n",
    "    we also define a function specifically for this class (a random function)\n",
    "    checks if the user uses streaming services\n",
    "    self here indicates to the instance itself\n",
    "    '''\n",
    "    def check(self):\n",
    "        var = ''\n",
    "        if self.StreamingTV == 1 and self.StreamingMovies == 1:\n",
    "            print(\"printing within the function: both\")\n",
    "            var = \"both\"\n",
    "        else:\n",
    "            print(\"printing within the function: one or none\")\n",
    "            var = \"one or both missing\"\n",
    "            \n",
    "        return(var)"
   ]
  },
  {
   "cell_type": "code",
   "execution_count": 13,
   "metadata": {},
   "outputs": [
    {
     "name": "stdout",
     "output_type": "stream",
     "text": [
      "gender 0 monthly charges 29.85\n",
      "0\n"
     ]
    }
   ],
   "source": [
    "# creating one instance of User class\n",
    "\n",
    "'''\n",
    "intializing the first user\n",
    "as we put a value when defining the user (line 8), it goes to the __init__ function in the class\n",
    "'''\n",
    "customerID      = data.iloc[0,0]\n",
    "gender          = data.iloc[0,1]\n",
    "SeniorCitizen   = data.iloc[0,2]\n",
    "Partner         = data.iloc[0,3]\n",
    "Dependents      = data.iloc[0,4]\n",
    "tenure          = data.iloc[0,5]\n",
    "PhoneService    = data.iloc[0,6]\n",
    "MultipleLines   = data.iloc[0,7]\n",
    "InternetService = data.iloc[0,8]\n",
    "OnlineSecurity  = data.iloc[0,9]\n",
    "OnlineBackup    = data.iloc[0,10]\n",
    "DeviceProtection= data.iloc[0,11]\n",
    "TechSupport     = data.iloc[0,12]\n",
    "StreamingTV     = data.iloc[0,13]\n",
    "StreamingMovies = data.iloc[0,14]\n",
    "Contract        = data.iloc[0,15]\n",
    "PaperlessBilling= data.iloc[0,16]\n",
    "PaymentMethod   = data.iloc[0,17]\n",
    "MonthlyCharges  = data.iloc[0,18]\n",
    "TotalCharges    = data.iloc[0,19]\n",
    "Churn           = data.iloc[0,20]\n",
    "\n",
    "# dont need to write self here (self is a keyword to represent an instance of class)\n",
    "user = User(customerID,gender,SeniorCitizen,Partner,Dependents,tenure,PhoneService,MultipleLines,InternetService,OnlineSecurity,OnlineBackup,DeviceProtection,TechSupport,StreamingTV,StreamingMovies,Contract,PaperlessBilling,PaymentMethod,MonthlyCharges,TotalCharges,Churn)    \n",
    "\n",
    "# accessing the attribute values\n",
    "print(\"gender\",user.gender, \"monthly charges\",user.MonthlyCharges)\n",
    "\n",
    "print(user.Churn)"
   ]
  },
  {
   "cell_type": "code",
   "execution_count": 14,
   "metadata": {},
   "outputs": [],
   "source": [
    "# creating a population of the users\n",
    "\n",
    "'''\n",
    "there are different structures we can use to create user population\n",
    "we show two methods of storing user information. first is in simple array, second is a dictionary\n",
    "'''\n",
    "users_array     = []\n",
    "users_dictinary = {}\n",
    "\n",
    "number_of_users = data.shape[0]\n",
    "number_of_attributes = data.shape[1]\n",
    "\n",
    "attributes      = data.columns\n",
    "\n",
    "for u in range(number_of_users):\n",
    "    \n",
    "    customerID      = data.iloc[u,0]\n",
    "    gender          = data.iloc[u,1]\n",
    "    SeniorCitizen   = data.iloc[u,2]\n",
    "    Partner         = data.iloc[u,3]\n",
    "    Dependents      = data.iloc[u,4]\n",
    "    tenure          = data.iloc[u,5]\n",
    "    PhoneService    = data.iloc[u,6]\n",
    "    MultipleLines   = data.iloc[u,7]\n",
    "    InternetService = data.iloc[u,8]\n",
    "    OnlineSecurity  = data.iloc[u,9]\n",
    "    OnlineBackup    = data.iloc[u,10]\n",
    "    DeviceProtection= data.iloc[u,11]\n",
    "    TechSupport     = data.iloc[u,12]\n",
    "    StreamingTV     = data.iloc[u,13]\n",
    "    StreamingMovies = data.iloc[u,14]\n",
    "    Contract        = data.iloc[u,15]\n",
    "    PaperlessBilling= data.iloc[u,16]\n",
    "    PaymentMethod   = data.iloc[u,17]\n",
    "    MonthlyCharges  = data.iloc[u,18]\n",
    "    TotalCharges    = data.iloc[u,19]\n",
    "    Churn           = data.iloc[u,20]\n",
    "    \n",
    "    #creating one user at a time\n",
    "    user = User(customerID,gender,SeniorCitizen,Partner,Dependents,tenure,PhoneService,MultipleLines,InternetService,OnlineSecurity,OnlineBackup,DeviceProtection,TechSupport,StreamingTV,StreamingMovies,Contract,PaperlessBilling,PaymentMethod,MonthlyCharges,TotalCharges,Churn)    \n",
    "\n",
    "    # once all the attribute values are added to the object, we can add it to the population\n",
    "    \n",
    "    # first adding it to the array\n",
    "    users_array.append(user)\n",
    "    \n",
    "    # adding it to a dictionary, here we can use user id also as an identifier for that user\n",
    "    users_dictinary[user.customerID] = user"
   ]
  },
  {
   "cell_type": "code",
   "execution_count": 15,
   "metadata": {},
   "outputs": [
    {
     "data": {
      "text/plain": [
       "(7043,\n",
       " {'customerID': '7590-VHVEG',\n",
       "  'gender': 0,\n",
       "  'SeniorCitizen': 0,\n",
       "  'Partner': 1,\n",
       "  'Dependents': 0,\n",
       "  'tenure': 1,\n",
       "  'PhoneService': 0,\n",
       "  'MultipleLines': 0,\n",
       "  'InternetService': 1,\n",
       "  'OnlineSecurity': 0,\n",
       "  'OnlineBackup': 1,\n",
       "  'DeviceProtection': 0,\n",
       "  'TechSupport': 0,\n",
       "  'StreamingTV': 0,\n",
       "  'StreamingMovies': 0,\n",
       "  'Contract': 1,\n",
       "  'PaperlessBilling': 1,\n",
       "  'PaymentMethod': 2,\n",
       "  'MonthlyCharges': 29.85,\n",
       "  'TotalCharges': '29.85',\n",
       "  'Churn': 0})"
      ]
     },
     "execution_count": 15,
     "metadata": {},
     "output_type": "execute_result"
    }
   ],
   "source": [
    "# accessing the user information using both the population set\n",
    "len(users_array),users_array[0].__dict__"
   ]
  },
  {
   "cell_type": "code",
   "execution_count": 17,
   "metadata": {},
   "outputs": [
    {
     "data": {
      "text/plain": [
       "(7043,\n",
       " {'customerID': '7590-VHVEG',\n",
       "  'gender': 0,\n",
       "  'SeniorCitizen': 0,\n",
       "  'Partner': 1,\n",
       "  'Dependents': 0,\n",
       "  'tenure': 1,\n",
       "  'PhoneService': 0,\n",
       "  'MultipleLines': 0,\n",
       "  'InternetService': 1,\n",
       "  'OnlineSecurity': 0,\n",
       "  'OnlineBackup': 1,\n",
       "  'DeviceProtection': 0,\n",
       "  'TechSupport': 0,\n",
       "  'StreamingTV': 0,\n",
       "  'StreamingMovies': 0,\n",
       "  'Contract': 1,\n",
       "  'PaperlessBilling': 1,\n",
       "  'PaymentMethod': 2,\n",
       "  'MonthlyCharges': 29.85,\n",
       "  'TotalCharges': '29.85',\n",
       "  'Churn': 0})"
      ]
     },
     "execution_count": 17,
     "metadata": {},
     "output_type": "execute_result"
    }
   ],
   "source": [
    "len(users_dictinary),users_dictinary['7590-VHVEG'].__dict__"
   ]
  },
  {
   "cell_type": "code",
   "execution_count": 19,
   "metadata": {},
   "outputs": [
    {
     "data": {
      "text/plain": [
       "{'customerID': '3186-AJIEK',\n",
       " 'gender': 1,\n",
       " 'SeniorCitizen': 0,\n",
       " 'Partner': 0,\n",
       " 'Dependents': 0,\n",
       " 'tenure': 66,\n",
       " 'PhoneService': 1,\n",
       " 'MultipleLines': 0,\n",
       " 'InternetService': 2,\n",
       " 'OnlineSecurity': 1,\n",
       " 'OnlineBackup': 0,\n",
       " 'DeviceProtection': 1,\n",
       " 'TechSupport': 1,\n",
       " 'StreamingTV': 1,\n",
       " 'StreamingMovies': 1,\n",
       " 'Contract': 3,\n",
       " 'PaperlessBilling': 1,\n",
       " 'PaymentMethod': 0,\n",
       " 'MonthlyCharges': 105.65,\n",
       " 'TotalCharges': '6844.5',\n",
       " 'Churn': 0}"
      ]
     },
     "execution_count": 19,
     "metadata": {},
     "output_type": "execute_result"
    }
   ],
   "source": [
    "users_array[-1].__dict__"
   ]
  },
  {
   "cell_type": "code",
   "execution_count": 20,
   "metadata": {},
   "outputs": [
    {
     "name": "stdout",
     "output_type": "stream",
     "text": [
      "TV 1 Movie 1\n",
      "printing within the function: both\n",
      "both\n"
     ]
    }
   ],
   "source": [
    "'''\n",
    "checking the function inside the class\n",
    "'''\n",
    "print(\"TV\",user.StreamingTV, \"Movie\",user.StreamingMovies)\n",
    "check = user.check()\n",
    "print(check)"
   ]
  },
  {
   "cell_type": "markdown",
   "metadata": {},
   "source": [
    "<h2>Another method of constructing classes</h2>"
   ]
  },
  {
   "cell_type": "code",
   "execution_count": 21,
   "metadata": {},
   "outputs": [],
   "source": [
    "# another method of defining a class with no constructor function (__init__)\n",
    "class User():\n",
    "    def check(self):\n",
    "        var = ''\n",
    "        if self.StreamingTV == 1 and self.StreamingMovies == 1:\n",
    "            print(\"both\")\n",
    "            var = \"both\"\n",
    "        else:\n",
    "            print(\"one or none\")\n",
    "            var = \"one or none\"\n",
    "            \n",
    "        return(var)"
   ]
  },
  {
   "cell_type": "code",
   "execution_count": 22,
   "metadata": {},
   "outputs": [],
   "source": [
    "# initializing using a different method\n",
    "# there is no constructor function but we are assigning values outside the initialization\n",
    "users_array      = []\n",
    "users_dictionary = {}\n",
    "\n",
    "number_of_users = data.shape[0]\n",
    "number_of_attributes = data.shape[1]\n",
    "\n",
    "attributes      = data.columns\n",
    "\n",
    "for u in range(number_of_users):\n",
    "    user = User()                         # creating the object without using any constructor variable\n",
    "    \n",
    "    user.customerID      = data.iloc[u,0]\n",
    "    user.gender          = data.iloc[u,1]\n",
    "    user.SeniorCitizen   = data.iloc[u,2]\n",
    "    user.Partner         = data.iloc[u,3]\n",
    "    user.Dependents      = data.iloc[u,4]\n",
    "    user.tenure          = data.iloc[u,5]\n",
    "    user.PhoneService    = data.iloc[u,6]\n",
    "    user.MultipleLines   = data.iloc[u,7]\n",
    "    user.InternetService = data.iloc[u,8]\n",
    "    user.OnlineSecurity  = data.iloc[u,9]\n",
    "    user.OnlineBackup    = data.iloc[u,10]\n",
    "    user.DeviceProtection= data.iloc[u,11]\n",
    "    user.TechSupport     = data.iloc[u,12]\n",
    "    user.StreamingTV     = data.iloc[u,13]\n",
    "    user.StreamingMovies = data.iloc[u,14]\n",
    "    user.Contract        = data.iloc[u,15]\n",
    "    user.PaperlessBilling= data.iloc[u,16]\n",
    "    user.PaymentMethod   = data.iloc[u,17]\n",
    "    user.MonthlyCharges  = data.iloc[u,18]\n",
    "    user.TotalCharges    = data.iloc[u,19]\n",
    "    user.Churn           = data.iloc[u,20]\n",
    "    \n",
    "    users_array.append(user)\n",
    "    users_dictionary[user.customerID] = user"
   ]
  },
  {
   "cell_type": "markdown",
   "metadata": {},
   "source": [
    "<h2>Inheritance</h2>\n",
    "\n",
    "A class can inherit attributes and behavior methods from another function called super class. A class which inherits is called child class or sub class."
   ]
  },
  {
   "cell_type": "code",
   "execution_count": 25,
   "metadata": {},
   "outputs": [],
   "source": [
    "'''\n",
    "lets create a subclass named User_subclass\n",
    "User inside the class definition passes off all the attribute value and functions to the subclass (User_subclass)\n",
    "'''\n",
    "class User_subclass(User):\n",
    "    \n",
    "    def round_charges(self):\n",
    "        #a function that returns the interger value of the total charges\n",
    "        print(int(float(self.TotalCharges)))"
   ]
  },
  {
   "cell_type": "code",
   "execution_count": 26,
   "metadata": {},
   "outputs": [
    {
     "name": "stdout",
     "output_type": "stream",
     "text": [
      "gender: 1 monthly charges: 6844.5\n",
      "printing within the function: both\n",
      "from outside the function: both\n",
      "integer value from the round_charges function\n",
      "6844\n"
     ]
    }
   ],
   "source": [
    "'''\n",
    "instead of creating a new User, lets create an instance of User_subclass\n",
    "we can also check the functions on this new instance. It will perform both the check and the round_charges function\n",
    "'''\n",
    "\n",
    "# creating an instance of User_subclass\n",
    "user = User_subclass(customerID,gender,SeniorCitizen,Partner,Dependents,tenure,PhoneService,MultipleLines,InternetService,OnlineSecurity,OnlineBackup,DeviceProtection,TechSupport,StreamingTV,StreamingMovies,Contract,PaperlessBilling,PaymentMethod,MonthlyCharges,TotalCharges,Churn)    \n",
    "\n",
    "# accessing the attribute values\n",
    "print(\"gender:\",user.gender, \"monthly charges:\",user.TotalCharges)\n",
    "\n",
    "# functions\n",
    "check = user.check()\n",
    "print(\"from outside the function:\",check)\n",
    "\n",
    "print('integer value from the round_charges function')\n",
    "user.round_charges()"
   ]
  },
  {
   "cell_type": "code",
   "execution_count": 28,
   "metadata": {},
   "outputs": [],
   "source": [
    "'''\n",
    "Suppose we want to create an object from a sub_class, after inheriting from super class, we want to use constructor\n",
    "all the parameters still need to be passed (see that an an extra parameter for country is passed)\n",
    "instead of writing self.variable = value, we can reduce the amount of code we need to write and create a new variable\n",
    "'''\n",
    "class User_subclass(User):\n",
    "    def __init__(self,customerID,gender,SeniorCitizen,Partner,Dependents,tenure,PhoneService,MultipleLines,InternetService,OnlineSecurity,OnlineBackup,DeviceProtection,TechSupport,StreamingTV,StreamingMovies,Contract,PaperlessBilling,PaymentMethod,MonthlyCharges,TotalCharges,Churn,country):\n",
    "        super().__init__(customerID,gender,SeniorCitizen,Partner,Dependents,tenure,PhoneService,MultipleLines,InternetService,OnlineSecurity,OnlineBackup,DeviceProtection,TechSupport,StreamingTV,StreamingMovies,Contract,PaperlessBilling,PaymentMethod,MonthlyCharges,TotalCharges,Churn)\n",
    "        self.country = country\n",
    "\n",
    "country = 'USA'\n",
    "user    = User_subclass(customerID,gender,SeniorCitizen,Partner,Dependents,tenure,PhoneService,MultipleLines,InternetService,OnlineSecurity,OnlineBackup,DeviceProtection,TechSupport,StreamingTV,StreamingMovies,Contract,PaperlessBilling,PaymentMethod,MonthlyCharges,TotalCharges,Churn,country)\n"
   ]
  },
  {
   "cell_type": "markdown",
   "metadata": {},
   "source": [
    "<h2>Encapsulation</h2>\n",
    "\n",
    "It refers to binding the code with the data. It can also be used to restrict the access to variables and methods. So that data is not modified accidentally. There are two types of methods - public and private. The method check in the class User was public method and it can be accessed outside the class. We will create a private function for the class which cannot called from outside.\n",
    "\n",
    "name of the private variables and private methods (functions), start with double underscore __"
   ]
  },
  {
   "cell_type": "markdown",
   "metadata": {},
   "source": [
    "<h3>private methods</h3>"
   ]
  },
  {
   "cell_type": "code",
   "execution_count": 27,
   "metadata": {},
   "outputs": [
    {
     "name": "stdout",
     "output_type": "stream",
     "text": [
      "one or none\n"
     ]
    },
    {
     "ename": "AttributeError",
     "evalue": "'User' object has no attribute '__private_function'",
     "output_type": "error",
     "traceback": [
      "\u001b[1;31m---------------------------------------------------------------------------\u001b[0m",
      "\u001b[1;31mAttributeError\u001b[0m                            Traceback (most recent call last)",
      "\u001b[1;32m<ipython-input-27-0d3e5440e22d>\u001b[0m in \u001b[0;36m<module>\u001b[1;34m\u001b[0m\n\u001b[0;32m     18\u001b[0m \u001b[0mu\u001b[0m\u001b[1;33m.\u001b[0m\u001b[0mStreamingMovies\u001b[0m \u001b[1;33m=\u001b[0m \u001b[1;36m0\u001b[0m\u001b[1;33m\u001b[0m\u001b[1;33m\u001b[0m\u001b[0m\n\u001b[0;32m     19\u001b[0m \u001b[0mu\u001b[0m\u001b[1;33m.\u001b[0m\u001b[0mcheck\u001b[0m\u001b[1;33m(\u001b[0m\u001b[1;33m)\u001b[0m\u001b[1;33m\u001b[0m\u001b[1;33m\u001b[0m\u001b[0m\n\u001b[1;32m---> 20\u001b[1;33m \u001b[0mu\u001b[0m\u001b[1;33m.\u001b[0m\u001b[0m__private_function\u001b[0m\u001b[1;33m(\u001b[0m\u001b[1;33m)\u001b[0m               \u001b[1;31m# this line gives an error\u001b[0m\u001b[1;33m\u001b[0m\u001b[1;33m\u001b[0m\u001b[0m\n\u001b[0m",
      "\u001b[1;31mAttributeError\u001b[0m: 'User' object has no attribute '__private_function'"
     ]
    }
   ],
   "source": [
    "class User():\n",
    "    def check(self):\n",
    "        var = ''\n",
    "        if self.StreamingTV == 1 and self.StreamingMovies == 1:\n",
    "            print(\"both\")\n",
    "            var = \"both\"\n",
    "        else:\n",
    "            print(\"one or none\")\n",
    "            var = \"one or both missing\"        \n",
    "        return(var)\n",
    "    \n",
    "    # this is how private function is define (start with __)\n",
    "    def __private_function(self):\n",
    "        print('private function')\n",
    "        \n",
    "u = User()\n",
    "u.StreamingTV     = 1\n",
    "u.StreamingMovies = 0\n",
    "u.check()\n",
    "u.__private_function()               # this line gives an error"
   ]
  },
  {
   "cell_type": "markdown",
   "metadata": {},
   "source": [
    "<h3>private variables</h3>\n",
    "\n",
    "Just like private classes cannot be accessed from outside, we can create private variables which cannot be accessed from outside. In the previous cases, we can change any value by setting \"user.MonthlyCharges = 0\". If we want to avoid such mistakes, we can use private variables so that the values do not change, unless intended."
   ]
  },
  {
   "cell_type": "code",
   "execution_count": 28,
   "metadata": {},
   "outputs": [
    {
     "name": "stdout",
     "output_type": "stream",
     "text": [
      "private function\n",
      "one or none\n",
      "private function\n",
      "{'_User__country': 'USA', '_User__continent': 'North America', 'StreamingTV': 1, 'StreamingMovies': 0}\n",
      "{'_User__country': 'UK', '_User__continent': 'Europe', 'StreamingTV': 1, 'StreamingMovies': 0}\n",
      "{'_User__country': 'India', '_User__continent': 'Asia', 'StreamingTV': 1, 'StreamingMovies': 0}\n"
     ]
    }
   ],
   "source": [
    "# ---------------------------------- creating private function ----------------------------\n",
    "class User():\n",
    "    __country   = ''\n",
    "    __continent = ''\n",
    "    \n",
    "    def __init__(self,country,continent):             \n",
    "        self.__country   = country\n",
    "        self.__continent = continent\n",
    "        self.__private_function()  # private function inside the __init__ function works (can be placed in any function)\n",
    "        \n",
    "    def check(self):\n",
    "        var = ''\n",
    "        if self.StreamingTV == 1 and self.StreamingMovies == 1:\n",
    "            print(\"both\")\n",
    "            var = \"both\"\n",
    "        else:\n",
    "            print(\"one or none\")\n",
    "            var = \"non or both\"\n",
    "        self.__private_function()\n",
    "        return(var)\n",
    "    \n",
    "    # this is how private function is define\n",
    "    def __private_function(self):\n",
    "        print('private function')  # can be called when placed within any other function\n",
    "        \n",
    "    def change_country(self,country,continent):\n",
    "        self.__country   = country\n",
    "        self.__continent = continent\n",
    "        \n",
    "u = User('USA','North America')\n",
    "u.StreamingTV     = 1\n",
    "u.StreamingMovies = 0\n",
    "u.check()\n",
    "print(u.__dict__)\n",
    "\n",
    "# we can changes the value only when a call the function that can change the value\n",
    "\n",
    "u.change_country('UK','Europe')\n",
    "print(u.__dict__)\n",
    "\n",
    "# we cannot call u.__country (from outside as it is a private variable), the following line throws an error\n",
    "#print(u.__country)\n",
    "\n",
    "# however, we can still access and change the values by addressing it through the following method\n",
    "# please check the u.__dict__ as how it stores value\n",
    "# however, it is unlikely that a coder would change the value using this method by mistake\n",
    "u._User__country   = 'India'\n",
    "u._User__continent = 'Asia'\n",
    "print(u.__dict__)\n"
   ]
  },
  {
   "cell_type": "markdown",
   "metadata": {},
   "source": [
    "<h2>Abstraction</h2>\n",
    "\n",
    "Like a Class is a template/blueprint for an object, an abstract class is a blueprint to construct other classes that will be built based on the abstract class. It has just declaration but no implementation (we cannot create an object for abstract class). However, the subclasses (based on abstract class) can be instantiated (or an object can be created) to access the methods in the abstract class."
   ]
  },
  {
   "cell_type": "code",
   "execution_count": 30,
   "metadata": {},
   "outputs": [],
   "source": [
    "'''\n",
    "there is a predefined method for creating abstract class, from abc module\n",
    "if abstract class has 3 methods and normal class has 1 method only, an object cant be created.\n",
    "'''\n",
    "from abc import ABC,abstractmethod\n",
    "\n",
    "class Abstract(ABC): # because this Class extends ABC (or inherits ABC), it becomes an abstract class\n",
    "    \n",
    "    @abstractmethod  # to create an abstract method, we need to put @abstractmethod before it\n",
    "    def method1():\n",
    "        pass\n",
    "    \n",
    "    @abstractmethod\n",
    "    def method2():\n",
    "        pass\n",
    "    \n",
    "    def method3():\n",
    "        pass\n",
    "           \n",
    "# we create a new method, that inherits abstract class and it can be implemented\n",
    "class User1(Abstract):\n",
    "    \n",
    "    def method1(self):\n",
    "        print('method 1: current class')\n",
    "    def method2(self):\n",
    "        print('method 1: current class')\n",
    "    \n",
    "\n",
    "# cannot be created (and give an error) becasue all the abstract methods in abstract class have not been created.\n",
    "u = User1()"
   ]
  },
  {
   "cell_type": "code",
   "execution_count": 31,
   "metadata": {},
   "outputs": [],
   "source": [
    "# User2 class implements all the abstractmethods from the abstract class, he we can create an instance of User2\n",
    "class User2(Abstract):\n",
    "    \n",
    "    def method1(self):\n",
    "        print('method 1: current class')\n",
    "    \n",
    "    def method2(self):\n",
    "        print('method 1: current class')\n",
    "\n",
    "u = User2()     # no error as all abstract classes are used"
   ]
  },
  {
   "cell_type": "code",
   "execution_count": 32,
   "metadata": {},
   "outputs": [],
   "source": [
    "# we can create a subclass to User2 with the missing abstract method and then we can create an object\n",
    "# but it should inherit the functions from User1\n",
    "class User3(User1):\n",
    "    \n",
    "    def method2(self):\n",
    "        print('method 2: current class')\n",
    "\n",
    "u = User3()    # no error as by inheriting, all abstract classes are used"
   ]
  },
  {
   "cell_type": "markdown",
   "metadata": {},
   "source": [
    "We can also create a constructor class in the abstract class (by using __init__) method. \n",
    "\n",
    "\n",
    "<b>Where is it used?</b> It can be helpful for creating a common Application Program Interface (API). It is used by third party companies to work with the main company. For example, some of the games e.g. helicopter is owned by a different company. Facebook provides API to the company as how they can write a code so that it can be integrated with facebook easily (and other ethical considerations). Facebook can also provide a host of different inbuilt functionality in the abstract class that can be useful for the game developed company.\n",
    "\n",
    "It is also used when we are working with a big team. To maintain the code structure, a single template is provided so that every user in the team (working on their own part of the project) can follow the same guidelines."
   ]
  },
  {
   "cell_type": "markdown",
   "metadata": {},
   "source": [
    "<h3>What is __main__ in python (Extra: Not important now)?</h3>\n",
    "\n",
    "Have you seen that in most of the github codes, there is a __main__ function which is used. Although it is important for JAVA, it is not really necessary in python. Then why is it used?"
   ]
  },
  {
   "cell_type": "code",
   "execution_count": 209,
   "metadata": {},
   "outputs": [
    {
     "name": "stdout",
     "output_type": "stream",
     "text": [
      "__main__\n"
     ]
    }
   ],
   "source": [
    "# just print to see what python actually runs when we run a code\n",
    "print(__name__)            # it will display name (python automatically sets its value to main)"
   ]
  },
  {
   "cell_type": "code",
   "execution_count": null,
   "metadata": {},
   "outputs": [],
   "source": [
    "'''\n",
    "- it is used when we import a python file\n",
    "- suppose we import a file that has lots of functions\n",
    "- when we import the file, all the files will be run (just when we call the import)\n",
    "- to avoid this, we we use a main function so that all the functions are not run unnecessary\n",
    "- to run this code, create two files, keep them in same folder and then run\n",
    "'''\n",
    "# file 1\n",
    "print('abc')\n",
    "print('efg')\n",
    "\n",
    "# file 2\n",
    "import file1\n",
    "print('second file',__name__)\n",
    "\n",
    "# when file 2 is run, it will print abc and efg (from file1) and print __main__ (for file 2)\n",
    "# if we introduce a main function, it will not run unnecessarily when we run file 2\n",
    "\n",
    "# file1\n",
    "def main():\n",
    "    print('abc')\n",
    "    print('efg')\n",
    "\n",
    "if __name__=='__main__':\n",
    "    main()\n",
    "    \n",
    "# file2\n",
    "import file1\n",
    "print('second file',__name__)    # this file 2 will not print abc and efg and importing did not call the main function"
   ]
  },
  {
   "cell_type": "code",
   "execution_count": null,
   "metadata": {},
   "outputs": [],
   "source": [
    "# another example of how it works\n",
    "# file 1\n",
    "\n",
    "print('xyz')                       # this will always run as it is outside the main function\n",
    "if __name__ == '__main__':         # main function is used when we want it to run standalone\n",
    "    print('directly run')\n",
    "else:\n",
    "    print('indirectly run')\n",
    "\n",
    "# if file 1 run on its own, it will print 'xyz' and 'directly run'\n",
    "\n",
    "# file 2\n",
    "import file1\n",
    "\n",
    "# if file 2 is run, it will print, 'xyz' and 'indirectly run'\n",
    "# thus, we want to run functions on importing, put it outside the main function\n",
    "# other wise if you want it to run only when requested, put it inside the main function"
   ]
  }
 ],
 "metadata": {
  "hide_input": false,
  "kernelspec": {
   "display_name": "Python 3",
   "language": "python",
   "name": "python3"
  },
  "language_info": {
   "codemirror_mode": {
    "name": "ipython",
    "version": 3
   },
   "file_extension": ".py",
   "mimetype": "text/x-python",
   "name": "python",
   "nbconvert_exporter": "python",
   "pygments_lexer": "ipython3",
   "version": "3.7.3"
  },
  "toc": {
   "base_numbering": 1,
   "nav_menu": {},
   "number_sections": false,
   "sideBar": true,
   "skip_h1_title": false,
   "title_cell": "Table of Contents",
   "title_sidebar": "Contents",
   "toc_cell": false,
   "toc_position": {
    "height": "calc(100% - 180px)",
    "left": "10px",
    "top": "150px",
    "width": "241.319px"
   },
   "toc_section_display": true,
   "toc_window_display": true
  },
  "varInspector": {
   "cols": {
    "lenName": 16,
    "lenType": 16,
    "lenVar": 40
   },
   "kernels_config": {
    "python": {
     "delete_cmd_postfix": "",
     "delete_cmd_prefix": "del ",
     "library": "var_list.py",
     "varRefreshCmd": "print(var_dic_list())"
    },
    "r": {
     "delete_cmd_postfix": ") ",
     "delete_cmd_prefix": "rm(",
     "library": "var_list.r",
     "varRefreshCmd": "cat(var_dic_list()) "
    }
   },
   "types_to_exclude": [
    "module",
    "function",
    "builtin_function_or_method",
    "instance",
    "_Feature"
   ],
   "window_display": false
  }
 },
 "nbformat": 4,
 "nbformat_minor": 2
}
