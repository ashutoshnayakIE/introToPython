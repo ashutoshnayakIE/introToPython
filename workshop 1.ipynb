{
 "cells": [
  {
   "cell_type": "markdown",
   "metadata": {},
   "source": [
    "<h1><center>Introduction To Python Programming</center></h1>"
   ]
  },
  {
   "cell_type": "markdown",
   "metadata": {},
   "source": [
    "<h2>Jupyter Notebook</h2>\n",
    "\n",
    "Jupyter notebooks can be very handy as it helps in combining code with the text. We can create presentations, or technical documents using notebook. Default jupyter notebook can be difficult to work with, particularly when large document with a lot of sections and subsections. Or even codes become difficult to read if the code includes lots of functions, loops etc.\n",
    "\n",
    "If you use jupyter notebook, please install the extension: nbextension. <a href=\"https://jupyter-contrib-nbextensions.readthedocs.io/en/latest/install.html\">check here for installations</a>\n",
    "\n",
    "After you install the extension, a new option will come up as shown Figure 1 (a). Click on it to and select the extension you want in your notebook as I have selected some in Figure 1(b). Once clicked, you can use those extensions.\n",
    "\n",
    "\n",
    "<img src=\"notebook.png\" width=\"1000\">"
   ]
  },
  {
   "cell_type": "markdown",
   "metadata": {},
   "source": [
    "<h2>Variables</h2>"
   ]
  },
  {
   "cell_type": "code",
   "execution_count": 1,
   "metadata": {},
   "outputs": [
    {
     "name": "stdout",
     "output_type": "stream",
     "text": [
      "20\n",
      "MSBA\n",
      "[2, 3, 4, 'MSBA']\n"
     ]
    }
   ],
   "source": [
    "# python does not require you to mention type of the variable\n",
    "# in languages like C, Java, you need to define type of the variable (e.g. int a = 20)\n",
    "# this makes it easy to code in python, there are chances of error and redefinition (but rare)\n",
    "\n",
    "a = 20\n",
    "print(a)\n",
    "a = 'MSBA'\n",
    "print(a)\n",
    "a = [2,3,4]  # array<integer> a = [1,2,3]\n",
    "\n",
    "a.append(\"MSBA\")\n",
    "print(a)"
   ]
  },
  {
   "cell_type": "markdown",
   "metadata": {},
   "source": [
    "<h2>Conditions</h2>"
   ]
  },
  {
   "cell_type": "code",
   "execution_count": 2,
   "metadata": {},
   "outputs": [
    {
     "name": "stdout",
     "output_type": "stream",
     "text": [
      "a is greater than 25\n"
     ]
    }
   ],
   "source": [
    "# conditional like if and else are most commonly used\n",
    "# they are the logical statements of the code\n",
    "\n",
    "a = 30\n",
    "\n",
    "if a > 25:\n",
    "    print(\"a is greater than 25\")\n",
    "elif a == 25:\n",
    "    print(\"a is equal to 25\")\n",
    "else:\n",
    "    print(\"a is smaller than 25\")"
   ]
  },
  {
   "cell_type": "markdown",
   "metadata": {},
   "source": [
    "<h2>Loops</h2>\n",
    "\n",
    "Loops are used for iterations. It is going over the values. For example, lets add the sum of MonthlyCharges of the 6th to 10th users. Since indexing starts from 0, 6th user will be represented by index 5. There are different types of loops in different languages, we will go through just the \"for\" loop here."
   ]
  },
  {
   "cell_type": "code",
   "execution_count": 3,
   "metadata": {},
   "outputs": [
    {
     "data": {
      "text/plain": [
       "range(0, 10)"
      ]
     },
     "execution_count": 3,
     "metadata": {},
     "output_type": "execute_result"
    }
   ],
   "source": [
    "range(10)"
   ]
  },
  {
   "cell_type": "code",
   "execution_count": 4,
   "metadata": {},
   "outputs": [
    {
     "name": "stdout",
     "output_type": "stream",
     "text": [
      "index: 3 | uth position in a: 14 | sum of elemets: 0\n",
      "index: 4 | uth position in a: 15 | sum of elemets: 14\n",
      "index: 5 | uth position in a: 16 | sum of elemets: 29\n",
      "index: 6 | uth position in a: 17 | sum of elemets: 45\n",
      "index: 7 | uth position in a: 18 | sum of elemets: 62\n",
      "sum of elements in a: 80\n",
      "11\n"
     ]
    }
   ],
   "source": [
    "'''\n",
    "u is the counter \n",
    "range(x,y): is the range in which the u value should move (u changes from x to y-1), in the example, it will be from 5 to 9\n",
    "'''\n",
    "\n",
    "# indexing in python starts at 0, that is first index is 0, so to call 11, we need to type print(a[0])\n",
    "\n",
    "a = [11,12,13,14,15,16,17,18,19,20,21,22,23,24,25]\n",
    "\n",
    "sum_a = 0\n",
    "\n",
    "for u in range(3,8):\n",
    "    print(\"index:\",u,\"| uth position in a:\",a[u],\"| sum of elemets:\",sum_a)\n",
    "    sum_a = sum_a + a[u]\n",
    "\n",
    "print('sum of elements in a:',sum_a)\n",
    "\n",
    "print(a[0])"
   ]
  },
  {
   "cell_type": "code",
   "execution_count": 5,
   "metadata": {},
   "outputs": [
    {
     "data": {
      "text/plain": [
       "0"
      ]
     },
     "execution_count": 5,
     "metadata": {},
     "output_type": "execute_result"
    }
   ],
   "source": [
    "70%7"
   ]
  },
  {
   "cell_type": "code",
   "execution_count": 6,
   "metadata": {},
   "outputs": [
    {
     "name": "stdout",
     "output_type": "stream",
     "text": [
      "index: 5 | mod 7 of u (remainder when u is divided by 7): 5\n",
      "randomly printing: 500\n",
      "index: 6 | mod 7 of u (remainder when u is divided by 7): 6\n",
      "randomly printing: 600\n",
      "index: 7 | mod 7 of u (remainder when u is divided by 7): 0\n",
      "broken here\n"
     ]
    }
   ],
   "source": [
    "'''\n",
    "Stopping (breaking), passing and continuing the loop\n",
    "stopping: if some condition is satisfied, we can stop the loop (break will stop the current loop)\n",
    "EXAMPLE USE: if we are checking if \"V\" comes in \"DAVIS\", loop-> \"D\",\"A\",\"V\" (break here as V is in Davis and no longer we need to check for all the remaining letters) - save computational time\n",
    "'''\n",
    "\n",
    "for u in range(5,10):\n",
    "    print(\"index:\",u, '| mod 7 of u (remainder when u is divided by 7):',u%7)\n",
    "    \n",
    "    if u%7 == 0:                        # if mod of i (remainder when i is divided by 7) is 0, stop the loop\n",
    "        print('broken here')\n",
    "        break                           # it breaks the loop here\n",
    "        \n",
    "    print('randomly printing:', u*100)  # the loop will not reach here as it was broken already"
   ]
  },
  {
   "cell_type": "code",
   "execution_count": 7,
   "metadata": {},
   "outputs": [
    {
     "name": "stdout",
     "output_type": "stream",
     "text": [
      "5 , mod 7 of i (remainder when u is divided by 7): 5\n",
      "randomly printing: 500\n",
      "6 , mod 7 of i (remainder when u is divided by 7): 6\n",
      "randomly printing: 600\n",
      "7 , mod 7 of i (remainder when u is divided by 7): 0\n",
      "passed here\n",
      "randomly printing: 700\n",
      "8 , mod 7 of i (remainder when u is divided by 7): 1\n",
      "randomly printing: 800\n",
      "9 , mod 7 of i (remainder when u is divided by 7): 2\n",
      "randomly printing: 900\n"
     ]
    }
   ],
   "source": [
    "'''\n",
    "passing the current loop does not break the loop but it will perform no further action in that loop\n",
    "EXAMPLE: suppose the code gives error in one index. Go through the next without stoppping the code (error handling)\n",
    "'''\n",
    "\n",
    "for u in range(5,10):\n",
    "    print(u, ', mod 7 of i (remainder when u is divided by 7):',u%7)\n",
    "    \n",
    "    if u%7 == 0:                        # if mod of i (remainder when i is divided by 7) is 0, stop the loop\n",
    "        pass                            # do nothing (even if condition is satisfied): just a filler\n",
    "        print('passed here')\n",
    "        \n",
    "    print('randomly printing:', u*100)  # it will be printed as the loop was never broken"
   ]
  },
  {
   "cell_type": "code",
   "execution_count": 8,
   "metadata": {},
   "outputs": [
    {
     "name": "stdout",
     "output_type": "stream",
     "text": [
      "5 , mod 7 of u (remainder when u is divided by 7): 5\n",
      "randomly printing: 500\n",
      "6 , mod 7 of u (remainder when u is divided by 7): 6\n",
      "randomly printing: 600\n",
      "7 , mod 7 of u (remainder when u is divided by 7): 0\n",
      "continued here\n",
      "8 , mod 7 of u (remainder when u is divided by 7): 1\n",
      "randomly printing: 800\n",
      "9 , mod 7 of u (remainder when u is divided by 7): 2\n",
      "randomly printing: 900\n"
     ]
    }
   ],
   "source": [
    "'''\n",
    "continuing the current loop does not break the loop but it will perform no further action in that loop\n",
    "EXAMPLE: if going through users, I observe that userid is not mentioned, then ignore that user and move on\n",
    "'''\n",
    "for u in range(5,10):\n",
    "    print(u, ', mod 7 of u (remainder when u is divided by 7):',u%7)\n",
    "    \n",
    "    if u%7 == 0:                        # if mod of i (remainder when i is divided by 7) is 0, stop the loop\n",
    "        print('continued here')\n",
    "        continue                        # does not break it\n",
    "        \n",
    "    print('randomly printing:', u*100)  # it will not be printed for the value i that was \"continued\", i.e. 7"
   ]
  },
  {
   "cell_type": "code",
   "execution_count": 9,
   "metadata": {},
   "outputs": [
    {
     "name": "stdout",
     "output_type": "stream",
     "text": [
      "a\n",
      "b\n",
      "c\n",
      "d\n",
      "----\n",
      "a\n",
      "b\n",
      "c\n",
      "d\n",
      "----\n",
      "0 a\n",
      "1 b\n",
      "2 c\n",
      "3 d\n"
     ]
    }
   ],
   "source": [
    "# Another method for runnign the loops\n",
    "# both the methods would give the same results, depending on the need, you can use either\n",
    "\n",
    "a = ['a','b','c','d']\n",
    "\n",
    "#method 1: as discussed above\n",
    "for i in range(4):\n",
    "    print(a[i])\n",
    "    \n",
    "print('----')\n",
    "    \n",
    "# method 2: directly use the array\n",
    "for i in a:\n",
    "    print(i)\n",
    "    \n",
    "    \n",
    "print('----')\n",
    "\n",
    "# method 3 gives both the direct values and the index:\n",
    "for i,var in enumerate(a):\n",
    "    print(i,var)"
   ]
  },
  {
   "cell_type": "code",
   "execution_count": null,
   "metadata": {},
   "outputs": [],
   "source": []
  }
 ],
 "metadata": {
  "hide_input": false,
  "kernelspec": {
   "display_name": "Python 3",
   "language": "python",
   "name": "python3"
  },
  "language_info": {
   "codemirror_mode": {
    "name": "ipython",
    "version": 3
   },
   "file_extension": ".py",
   "mimetype": "text/x-python",
   "name": "python",
   "nbconvert_exporter": "python",
   "pygments_lexer": "ipython3",
   "version": "3.7.3"
  },
  "toc": {
   "base_numbering": 1,
   "nav_menu": {},
   "number_sections": false,
   "sideBar": true,
   "skip_h1_title": true,
   "title_cell": "Table of Contents",
   "title_sidebar": "Contents",
   "toc_cell": false,
   "toc_position": {},
   "toc_section_display": true,
   "toc_window_display": true
  },
  "varInspector": {
   "cols": {
    "lenName": 16,
    "lenType": 16,
    "lenVar": 40
   },
   "kernels_config": {
    "python": {
     "delete_cmd_postfix": "",
     "delete_cmd_prefix": "del ",
     "library": "var_list.py",
     "varRefreshCmd": "print(var_dic_list())"
    },
    "r": {
     "delete_cmd_postfix": ") ",
     "delete_cmd_prefix": "rm(",
     "library": "var_list.r",
     "varRefreshCmd": "cat(var_dic_list()) "
    }
   },
   "types_to_exclude": [
    "module",
    "function",
    "builtin_function_or_method",
    "instance",
    "_Feature"
   ],
   "window_display": false
  }
 },
 "nbformat": 4,
 "nbformat_minor": 2
}
